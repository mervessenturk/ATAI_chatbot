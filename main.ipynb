{
 "cells": [
  {
   "cell_type": "code",
   "execution_count": 2,
   "id": "07687e9f-0edb-42b2-a5d6-9a27c67426c9",
   "metadata": {},
   "outputs": [
    {
     "name": "stdout",
     "output_type": "stream",
     "text": [
      "🔍 Loading RDF graph from data/atai_dataset/graph.nt...\n",
      "✅ RDF graph loaded with 2413825 triples.\n"
     ]
    }
   ],
   "source": [
    "from src.sparql_executor.sparql_executer import query_executor"
   ]
  },
  {
   "cell_type": "code",
   "execution_count": 8,
   "id": "0aaf0f6f-89e8-4423-a646-619d28ab700b",
   "metadata": {},
   "outputs": [],
   "source": [
    "import os\n",
    "from speakeasypy import Speakeasy, EventType"
   ]
  },
  {
   "cell_type": "code",
   "execution_count": 18,
   "id": "448473c4-0daf-4084-9038-2194c6524324",
   "metadata": {},
   "outputs": [],
   "source": [
    "HOST = \"https://speakeasy.ifi.uzh.ch\"\n",
    "USERNAME = \"CyanPulsingHeart\"\n",
    "PASSWORD = \"Ml8Sf1qZ\""
   ]
  },
  {
   "cell_type": "code",
   "execution_count": 20,
   "id": "26104328-b649-4def-9343-401956d7d837",
   "metadata": {},
   "outputs": [
    {
     "name": "stdout",
     "output_type": "stream",
     "text": [
      "Login successful. Session token: fPpa_9LI6l6ccmGJBR6LGuCy0h2My50L\n"
     ]
    },
    {
     "data": {
      "text/plain": [
       "'fPpa_9LI6l6ccmGJBR6LGuCy0h2My50L'"
      ]
     },
     "execution_count": 20,
     "metadata": {},
     "output_type": "execute_result"
    }
   ],
   "source": [
    "speakeasy = Speakeasy(host=HOST, username=USERNAME, password=PASSWORD)\n",
    "speakeasy.login()"
   ]
  },
  {
   "cell_type": "code",
   "execution_count": 22,
   "id": "5249dc98-d35f-4e8b-bab4-e142c38bd04f",
   "metadata": {},
   "outputs": [],
   "source": [
    "\n",
    "def on_new_message(message, room):\n",
    "    \"\"\"\n",
    "    Callback triggered when a new message is received in Speakeasy.\n",
    "\n",
    "    - Gets the message text (SPARQL query or later: natural-language question)\n",
    "    - Executes the query using query_executor()\n",
    "    - Sends the result back to the chat room\n",
    "    \"\"\"\n",
    "    print(\"Received message:\")\n",
    "    print(message)\n",
    "\n",
    "    # Convert to string and clean whitespace\n",
    "    query = (str(message) or \"\").strip()\n",
    "    if not query:\n",
    "        room.post_messages(\"Empty input.\")\n",
    "        return\n",
    "\n",
    "    # Execute query and get reply\n",
    "    reply = query_executor(query)\n",
    "\n",
    "    # Post reply back to Speakeasy chat\n",
    "    room.post_messages(reply)\n",
    "    print(\"Reply sent.\")"
   ]
  },
  {
   "cell_type": "code",
   "execution_count": null,
   "id": "a2cf7507-eba6-4c26-89ee-371fbd6accbf",
   "metadata": {},
   "outputs": [
    {
     "name": "stdout",
     "output_type": "stream",
     "text": [
      "Chatbot is listening for SPARQL or natural-language queries...\n",
      "on 0: \n",
      "on 1: 💬 Received message:\n",
      "on 1: PREFIX ddis: <http://ddis.ch/atai/>  PREFIX wd: <http://www.wikidata.org/entity/>  PREFIX wdt: <http://www.wikidata.org/prop/direct/>  PREFIX schema: <http://schema.org/>  SELECT ?movieLabel ?movieItem WHERE {     ?movieItem wdt:P31 wd:Q11424 .     ?movieItem ddis:rating ?rating .     ?movieItem rdfs:label ?movieLabel .  }  ORDER BY DESC(?rating)  LIMIT 1\n",
      "on 1: 💡 Reply:\n",
      "on 1: Acidulous Midtime Shed (Q10850238456619979)\n",
      "on 1: ✅ Reply sent.\n",
      "on 3: \n",
      "on 3: \n",
      "on 3: \n",
      "on 3: \n",
      "on 3: \n",
      "on 3: \n",
      "on 3: \n",
      "on 3: \n",
      "on 3: \n",
      "on 3: \n",
      "on 3: \n",
      "on 3: \n"
     ]
    }
   ],
   "source": [
    "speakeasy.register_callback(on_new_message, EventType.MESSAGE)\n",
    "print(\"Chatbot is listening for SPARQL or natural-language queries...\")\n",
    "speakeasy.start_listening()"
   ]
  },
  {
   "cell_type": "code",
   "execution_count": null,
   "id": "1db4be8b-4d75-44a6-816b-2835d9d51b01",
   "metadata": {},
   "outputs": [],
   "source": []
  }
 ],
 "metadata": {
  "kernelspec": {
   "display_name": "Python (chatbot)",
   "language": "python",
   "name": "chatbot"
  },
  "language_info": {
   "codemirror_mode": {
    "name": "ipython",
    "version": 3
   },
   "file_extension": ".py",
   "mimetype": "text/x-python",
   "name": "python",
   "nbconvert_exporter": "python",
   "pygments_lexer": "ipython3",
   "version": "3.12.4"
  }
 },
 "nbformat": 4,
 "nbformat_minor": 5
}
