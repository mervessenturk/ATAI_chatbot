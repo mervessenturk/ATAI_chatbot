import os
import urllib.request

# Create directories if not exist
os.makedirs("data/embedding", exist_ok=True)

# Correct base URLs
base_url = "https://files.ifi.uzh.ch/ddis/teaching/2025/ATAI/dataset/"
embedding_url = base_url + "embeddings/"

# Corrected file paths
files = {
    "graph.nt": base_url + "graph.nt",
    "entity_embeds.npy": embedding_url + "entity_embeds.npy",
    "entity_embeds.del": embedding_url + "entity_ids.del",
    "relation_embeds.npy": embedding_url + "relation_embeds.npy",
    "relation_ids.del": embedding_url + "relation_ids.del",
}

# Download
for filename, url in files.items():
    local_path = "data/embedding/" + filename if "embedding" in url else "data/" + filename
    print(f"⬇️ Downloading {url} → {local_path}")
    urllib.request.urlretrieve(url, local_path)

print("\n✅ All dataset files downloaded successfully.")




