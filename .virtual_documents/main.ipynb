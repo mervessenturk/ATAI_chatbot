from src.sparql_executor.sparql_executer import query_executor


import os
from speakeasypy import Speakeasy, EventType


HOST = "https://speakeasy.ifi.uzh.ch"
USERNAME = "CyanPulsingHeart"
PASSWORD = "Ml8Sf1qZ"


speakeasy = Speakeasy(host=HOST, username=USERNAME, password=PASSWORD)
speakeasy.login()



def on_new_message(message, room):
    """
    Callback triggered when a new message is received in Speakeasy.

    - Gets the message text (SPARQL query or later: natural-language question)
    - Executes the query using query_executor()
    - Sends the result back to the chat room
    """
    print("Received message:")
    print(message)

    # Convert to string and clean whitespace
    query = (str(message) or "").strip()
    if not query:
        room.post_messages("Empty input.")
        return

    # Execute query and get reply
    reply = query_executor(query)

    # Post reply back to Speakeasy chat
    room.post_messages(reply)
    print("Reply sent.")


speakeasy.register_callback(on_new_message, EventType.MESSAGE)
print("Chatbot is listening for SPARQL or natural-language queries...")
speakeasy.start_listening()



