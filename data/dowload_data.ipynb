{
 "cells": [
  {
   "cell_type": "code",
   "execution_count": 12,
   "id": "51330fcd-21a4-4494-affe-a8fa58b7e01b",
   "metadata": {},
   "outputs": [
    {
     "name": "stdout",
     "output_type": "stream",
     "text": [
      "⬇️ Downloading https://files.ifi.uzh.ch/ddis/teaching/2025/ATAI/dataset/graph.nt → data/graph.nt\n",
      "⬇️ Downloading https://files.ifi.uzh.ch/ddis/teaching/2025/ATAI/dataset/embeddings/entity_embeds.npy → data/embedding/entity_embeds.npy\n",
      "⬇️ Downloading https://files.ifi.uzh.ch/ddis/teaching/2025/ATAI/dataset/embeddings/entity_ids.del → data/embedding/entity_embeds.del\n",
      "⬇️ Downloading https://files.ifi.uzh.ch/ddis/teaching/2025/ATAI/dataset/embeddings/relation_embeds.npy → data/embedding/relation_embeds.npy\n",
      "⬇️ Downloading https://files.ifi.uzh.ch/ddis/teaching/2025/ATAI/dataset/embeddings/relation_ids.del → data/embedding/relation_ids.del\n",
      "\n",
      "✅ All dataset files downloaded successfully.\n"
     ]
    }
   ],
   "source": [
    "import os\n",
    "import urllib.request\n",
    "\n",
    "# Create directories if not exist\n",
    "os.makedirs(\"data/embedding\", exist_ok=True)\n",
    "\n",
    "# Correct base URLs\n",
    "base_url = \"https://files.ifi.uzh.ch/ddis/teaching/2025/ATAI/dataset/\"\n",
    "embedding_url = base_url + \"embeddings/\"\n",
    "\n",
    "# Corrected file paths\n",
    "files = {\n",
    "    \"graph.nt\": base_url + \"graph.nt\",\n",
    "    \"entity_embeds.npy\": embedding_url + \"entity_embeds.npy\",\n",
    "    \"entity_embeds.del\": embedding_url + \"entity_ids.del\",\n",
    "    \"relation_embeds.npy\": embedding_url + \"relation_embeds.npy\",\n",
    "    \"relation_ids.del\": embedding_url + \"relation_ids.del\",\n",
    "}\n",
    "\n",
    "# Download\n",
    "for filename, url in files.items():\n",
    "    local_path = \"data/embedding/\" + filename if \"embedding\" in url else \"data/\" + filename\n",
    "    print(f\"⬇️ Downloading {url} → {local_path}\")\n",
    "    urllib.request.urlretrieve(url, local_path)\n",
    "\n",
    "print(\"\\n✅ All dataset files downloaded successfully.\")\n"
   ]
  },
  {
   "cell_type": "code",
   "execution_count": null,
   "id": "9f63c029-993a-4910-b22a-4038c3721bef",
   "metadata": {},
   "outputs": [],
   "source": []
  }
 ],
 "metadata": {
  "kernelspec": {
   "display_name": "Python 3 (ipykernel)",
   "language": "python",
   "name": "python3"
  },
  "language_info": {
   "codemirror_mode": {
    "name": "ipython",
    "version": 3
   },
   "file_extension": ".py",
   "mimetype": "text/x-python",
   "name": "python",
   "nbconvert_exporter": "python",
   "pygments_lexer": "ipython3",
   "version": "3.12.4"
  }
 },
 "nbformat": 4,
 "nbformat_minor": 5
}
